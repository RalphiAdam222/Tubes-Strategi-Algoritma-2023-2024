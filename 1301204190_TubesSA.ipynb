{
  "nbformat": 4,
  "nbformat_minor": 0,
  "metadata": {
    "colab": {
      "provenance": []
    },
    "kernelspec": {
      "name": "python3",
      "display_name": "Python 3"
    },
    "language_info": {
      "name": "python"
    }
  },
  "cells": [
    {
      "cell_type": "code",
      "source": [
        "#Greedy\n",
        "import numpy as np\n",
        "def greedy_assignment(cost_matrix):\n",
        "    num_tasks = cost_matrix.shape[0]\n",
        "    assigned_agents = [-1] * num_tasks\n",
        "    used_agents = [False] * num_tasks\n",
        "\n",
        "    for task in range(num_tasks):\n",
        "        min_cost = float('inf')\n",
        "        best_agent = -1\n",
        "        for agent in range(num_tasks):\n",
        "            if not used_agents[agent] and cost_matrix[task, agent] < min_cost:\n",
        "                min_cost = cost_matrix[task, agent]\n",
        "                best_agent = agent\n",
        "        assigned_agents[task] = best_agent\n",
        "        used_agents[best_agent] = True\n",
        "\n",
        "    total_cost = sum(cost_matrix[task, assigned_agents[task]] for task in range(num_tasks))\n",
        "    return assigned_agents, total_cost\n",
        "\n",
        "# Contoh matriks biaya\n",
        "cost_matrix = np.array([\n",
        "    [4, 2, 8],\n",
        "    [2, 5, 7],\n",
        "    [3, 1, 6]\n",
        "])\n",
        "\n",
        "# Menggunakan algoritma greedy\n",
        "greedy_assignment_result, greedy_total_cost = greedy_assignment(cost_matrix)\n",
        "\n",
        "print(\"Hasil menggunakan algoritma greedy:\")\n",
        "for task, agent in enumerate(greedy_assignment_result):\n",
        "    print(f\"Job {task+1} diberikan kepada Person {agent+1} dengan biaya {cost_matrix[task, agent]}\")\n",
        "print(f\"Total biaya greedy: {greedy_total_cost}\")\n"
      ],
      "metadata": {
        "colab": {
          "base_uri": "https://localhost:8080/"
        },
        "id": "TZoLICF82B8T",
        "outputId": "6ef2a8bd-1e1b-49d4-9059-a1b761533617"
      },
      "execution_count": 20,
      "outputs": [
        {
          "output_type": "stream",
          "name": "stdout",
          "text": [
            "Hasil menggunakan algoritma greedy:\n",
            "Job 1 diberikan kepada Person 2 dengan biaya 2\n",
            "Job 2 diberikan kepada Person 1 dengan biaya 2\n",
            "Job 3 diberikan kepada Person 3 dengan biaya 6\n",
            "Total biaya greedy: 10\n"
          ]
        }
      ]
    },
    {
      "cell_type": "code",
      "source": [
        "#Brute Force\n",
        "from itertools import permutations\n",
        "import numpy as np\n",
        "# Fungsi untuk menghitung biaya total dari penugasan tertentu\n",
        "def calculate_total_cost(cost_matrix, assignment):\n",
        "    total_cost = 0\n",
        "    for task, agent in enumerate(assignment):\n",
        "        total_cost += cost_matrix[task, agent]\n",
        "    return total_cost\n",
        "\n",
        "# Fungsi untuk memecahkan Assignment Problem menggunakan algoritma brute force\n",
        "def solve_assignment_problem_brute_force(cost_matrix):\n",
        "    num_tasks = cost_matrix.shape[0]\n",
        "    all_assignments = permutations(range(num_tasks))\n",
        "\n",
        "    min_cost = float('inf')\n",
        "    best_assignment = None\n",
        "\n",
        "    for assignment in all_assignments:\n",
        "        current_cost = calculate_total_cost(cost_matrix, assignment)\n",
        "        if current_cost < min_cost:\n",
        "            min_cost = current_cost\n",
        "            best_assignment = assignment\n",
        "\n",
        "    return best_assignment, min_cost\n",
        "\n",
        "# Contoh matriks biaya\n",
        "cost_matrix = np.array([\n",
        "    [4, 2, 8],\n",
        "    [2, 5, 7],\n",
        "    [3, 1, 6]\n",
        "])\n",
        "\n",
        "# Menggunakan algoritma brute force\n",
        "brute_force_assignment_result, brute_force_total_cost = solve_assignment_problem_brute_force(cost_matrix)\n",
        "\n",
        "print(\"\\nHasil menggunakan algoritma brute force:\")\n",
        "for task, agent in enumerate(brute_force_assignment_result):\n",
        "    print(f\"Job {task+1} diberikan kepada Person {agent+1} dengan biaya {cost_matrix[task, agent]}\")\n",
        "print(f\"Total biaya brute force: {brute_force_total_cost}\")"
      ],
      "metadata": {
        "colab": {
          "base_uri": "https://localhost:8080/"
        },
        "id": "EYzrYG1c5CNU",
        "outputId": "3598c9b1-3b0d-4457-cdc3-cfccf7cdb554"
      },
      "execution_count": 22,
      "outputs": [
        {
          "output_type": "stream",
          "name": "stdout",
          "text": [
            "\n",
            "Hasil menggunakan algoritma brute force:\n",
            "Job 1 diberikan kepada Person 2 dengan biaya 2\n",
            "Job 2 diberikan kepada Person 1 dengan biaya 2\n",
            "Job 3 diberikan kepada Person 3 dengan biaya 6\n",
            "Total biaya brute force: 10\n"
          ]
        }
      ]
    }
  ]
}